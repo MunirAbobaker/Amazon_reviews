{
  "cells": [
    {
      "cell_type": "markdown",
      "metadata": {
        "id": "view-in-github",
        "colab_type": "text"
      },
      "source": [
        "<a href=\"https://colab.research.google.com/github/MunirAbobaker/Amazon_reviews/blob/master/amazon_reviews_sentiment_nb_initial.ipynb\" target=\"_parent\"><img src=\"https://colab.research.google.com/assets/colab-badge.svg\" alt=\"Open In Colab\"/></a>"
      ]
    },
    {
      "cell_type": "markdown",
      "metadata": {
        "id": "pdIoGVy0dLFJ"
      },
      "source": [
        "# Set up"
      ]
    },
    {
      "cell_type": "markdown",
      "metadata": {
        "id": "dAbpqgiYZQTw"
      },
      "source": [
        "## Package Loading"
      ]
    },
    {
      "cell_type": "code",
      "execution_count": null,
      "metadata": {
        "colab": {
          "base_uri": "https://localhost:8080/"
        },
        "id": "pkuSpTlmZZ17",
        "outputId": "35c06cfd-68ed-4b69-d7e5-925937bcf6d1"
      },
      "outputs": [
        {
          "name": "stdout",
          "output_type": "stream",
          "text": [
            "Collecting emoji\n",
            "  Downloading emoji-1.7.0.tar.gz (175 kB)\n",
            "\u001b[?25l\r\u001b[K     |█▉                              | 10 kB 17.1 MB/s eta 0:00:01\r\u001b[K     |███▊                            | 20 kB 20.5 MB/s eta 0:00:01\r\u001b[K     |█████▋                          | 30 kB 22.7 MB/s eta 0:00:01\r\u001b[K     |███████▌                        | 40 kB 17.9 MB/s eta 0:00:01\r\u001b[K     |█████████▍                      | 51 kB 3.8 MB/s eta 0:00:01\r\u001b[K     |███████████▏                    | 61 kB 4.3 MB/s eta 0:00:01\r\u001b[K     |█████████████                   | 71 kB 4.6 MB/s eta 0:00:01\r\u001b[K     |███████████████                 | 81 kB 5.2 MB/s eta 0:00:01\r\u001b[K     |████████████████▉               | 92 kB 5.8 MB/s eta 0:00:01\r\u001b[K     |██████████████████▊             | 102 kB 6.4 MB/s eta 0:00:01\r\u001b[K     |████████████████████▌           | 112 kB 6.4 MB/s eta 0:00:01\r\u001b[K     |██████████████████████▍         | 122 kB 6.4 MB/s eta 0:00:01\r\u001b[K     |████████████████████████▎       | 133 kB 6.4 MB/s eta 0:00:01\r\u001b[K     |██████████████████████████▏     | 143 kB 6.4 MB/s eta 0:00:01\r\u001b[K     |████████████████████████████    | 153 kB 6.4 MB/s eta 0:00:01\r\u001b[K     |█████████████████████████████▉  | 163 kB 6.4 MB/s eta 0:00:01\r\u001b[K     |███████████████████████████████▊| 174 kB 6.4 MB/s eta 0:00:01\r\u001b[K     |████████████████████████████████| 175 kB 6.4 MB/s \n",
            "\u001b[?25hBuilding wheels for collected packages: emoji\n",
            "  Building wheel for emoji (setup.py) ... \u001b[?25l\u001b[?25hdone\n",
            "  Created wheel for emoji: filename=emoji-1.7.0-py3-none-any.whl size=171046 sha256=7e281b2b1ae49bc85cb01b7197857fcffbc4cf4ee0d70096510a61e642e70d79\n",
            "  Stored in directory: /root/.cache/pip/wheels/8a/4e/b6/57b01db010d17ef6ea9b40300af725ef3e210cb1acfb7ac8b6\n",
            "Successfully built emoji\n",
            "Installing collected packages: emoji\n",
            "Successfully installed emoji-1.7.0\n",
            "Requirement already satisfied: nltk in /usr/local/lib/python3.7/dist-packages (3.2.5)\n",
            "Requirement already satisfied: six in /usr/local/lib/python3.7/dist-packages (from nltk) (1.15.0)\n",
            "[nltk_data] Downloading package punkt to /root/nltk_data...\n",
            "[nltk_data]   Unzipping tokenizers/punkt.zip.\n",
            "[nltk_data] Downloading package stopwords to /root/nltk_data...\n",
            "[nltk_data]   Unzipping corpora/stopwords.zip.\n",
            "Mounted at /content/drive\n"
          ]
        }
      ],
      "source": [
        "import pandas as pd\n",
        "import numpy as np\n",
        "import itertools\n",
        "!pip install emoji\n",
        "import emoji\n",
        "import re\n",
        "!pip install nltk\n",
        "import nltk\n",
        "nltk.download('punkt')\n",
        "nltk.download('stopwords')\n",
        "from nltk.corpus import stopwords \n",
        "from nltk.tokenize import word_tokenize \n",
        "from sklearn.utils.multiclass import unique_labels\n",
        "from sklearn.feature_extraction.text import TfidfVectorizer, CountVectorizer\n",
        "from imblearn.pipeline import Pipeline\n",
        "from imblearn.over_sampling import RandomOverSampler, ADASYN, SMOTE\n",
        "from imblearn.under_sampling import RandomUnderSampler, NearMiss\n",
        "from sklearn.pipeline import make_pipeline\n",
        "from sklearn.model_selection import train_test_split, StratifiedKFold, cross_val_predict, GridSearchCV\n",
        "from sklearn.svm import LinearSVC\n",
        "from sklearn.linear_model import SGDClassifier\n",
        "from sklearn.ensemble import ExtraTreesClassifier, RandomForestClassifier\n",
        "from sklearn.tree import DecisionTreeClassifier\n",
        "from sklearn.linear_model import LogisticRegression\n",
        "from sklearn.metrics import classification_report, accuracy_score, confusion_matrix, f1_score, make_scorer\n",
        "import matplotlib.pyplot as plt\n",
        "import time\n",
        "import joblib\n",
        "import gzip\n",
        "import json\n",
        "import seaborn as sns\n",
        "from google.colab import drive\n",
        "drive.mount('/content/drive')"
      ]
    },
    {
      "cell_type": "markdown",
      "metadata": {
        "id": "bhhHbBWheQb-"
      },
      "source": [
        "## Set Up paths"
      ]
    },
    {
      "cell_type": "code",
      "execution_count": null,
      "metadata": {
        "id": "frFeRDORe2DQ"
      },
      "outputs": [],
      "source": [
        "# Parent paths\n",
        "parent_path = '/content/drive/My Drive/'\n",
        "\n",
        "\n",
        "#Specific paths\n",
        "path_hyperparameters_nb = parent_path+\"Web_Mining_Project/classifier_parameters/best_parameters/nb.csv\"\n",
        "path_hyperparameters_knn = parent_path+\"Web_Mining_Project/classifier_parameters/best_parameters/knn.csv\"\n",
        "path_hyperparameters_rf = parent_path+\"Web_Mining_Project/classifier_parameters/best_parameters/rf.csv\"\n",
        "path_hyperparameters_svm = parent_path+\"Web_Mining_Project/classifier_parameters/best_parameters/svm.csv\"\n",
        "path_hyperparameters_lr = parent_path+\"Web_Mining_Project/classifier_parameters/best_parameters/lr.csv\"\n",
        "\n",
        "path_best_parameters_nb = parent_path+\"Web_Mining_Project/classifier_parameters/nb.pkl\"\n",
        "path_best_parameters_knn = parent_path+\"Web_Mining_Project/classifier_parameters/knn.pkl\"\n",
        "path_best_parameters_rf = parent_path+\"Web_Mining_Project/classifier_parameters/rf.pkl\"\n",
        "path_best_parameters_svm = parent_path+\"Web_Mining_Project/classifier_parameters/svm.pkl\"\n",
        "path_best_parameters_lr = parent_path+\"Web_Mining_Project/classifier_parameters/lr.pkl\"\n",
        "#dataset paths \n",
        "path_complete_dataset = parent_path + \"Web_Mining_Project/data/complete_dataset.csv\"\n",
        "path_shortend_dataset = parent_path + \"Web_Mining_Project/data/shortend10000_dataset.csv\""
      ]
    },
    {
      "cell_type": "markdown",
      "metadata": {
        "id": "ghQeUaKCgx2L"
      },
      "source": [
        "## Set Up Functions"
      ]
    },
    {
      "cell_type": "code",
      "execution_count": null,
      "metadata": {
        "id": "_IgovWRmgwRa"
      },
      "outputs": [],
      "source": [
        "# function for evaluation(confusion matrix)\n",
        "def plot_confusion_matrix(cm, classes,\n",
        "                          normalize=False,\n",
        "                          title='Confusion matrix',\n",
        "                          cmap=plt.cm.Blues):\n",
        "    \"\"\"\n",
        "    This function prints and plots the confusion matrix.\n",
        "    Normalization can be applied by setting `normalize=True`.\n",
        "    \"\"\"\n",
        "    if normalize:\n",
        "        cm = cm.astype('float') / cm.sum(axis=1)[:, np.newaxis]\n",
        "\n",
        "    plt.imshow(cm, interpolation='nearest', cmap=cmap)\n",
        "    plt.title(title)\n",
        "    plt.colorbar()\n",
        "    tick_marks = np.arange(len(classes))\n",
        "    plt.xticks(tick_marks, classes, rotation=45)\n",
        "    plt.yticks(tick_marks, classes)\n",
        "\n",
        "    fmt = '.2f' if normalize else 'd'\n",
        "    thresh = cm.max() / 2.\n",
        "    for i, j in itertools.product(range(cm.shape[0]), range(cm.shape[1])):\n",
        "        plt.text(j, i, format(cm[i, j], fmt),\n",
        "                 horizontalalignment=\"center\",\n",
        "                 color=\"white\" if cm[i, j] > thresh else \"black\")\n",
        "\n",
        "    plt.ylabel('True label')\n",
        "    plt.xlabel('Predicted label')\n",
        "    plt.tight_layout()\n",
        "\n",
        "# function for sentiment label creating \n",
        "def create_labels_from_rating(score):\n",
        "  score = int(score)\n",
        "  if score <= 2:\n",
        "    return 0 #negative\n",
        "  elif score == 3:\n",
        "    return 1 #neutral\n",
        "  else:\n",
        "    return 2 #positive\n",
        "  "
      ]
    },
    {
      "cell_type": "markdown",
      "metadata": {
        "id": "2psw4oRk5UQu"
      },
      "source": [
        "# Data Download and Exploration"
      ]
    },
    {
      "cell_type": "code",
      "execution_count": null,
      "metadata": {
        "colab": {
          "base_uri": "https://localhost:8080/",
          "height": 355
        },
        "id": "gOg75kouWVna",
        "outputId": "c5c8c426-96a9-4813-9bba-67c40cc13276"
      },
      "outputs": [
        {
          "name": "stdout",
          "output_type": "stream",
          "text": [
            "(10000, 12)\n"
          ]
        },
        {
          "data": {
            "text/html": [
              "\n",
              "  <div id=\"df-ba4d5bbe-95f4-4950-98a8-91b15f97cab7\">\n",
              "    <div class=\"colab-df-container\">\n",
              "      <div>\n",
              "<style scoped>\n",
              "    .dataframe tbody tr th:only-of-type {\n",
              "        vertical-align: middle;\n",
              "    }\n",
              "\n",
              "    .dataframe tbody tr th {\n",
              "        vertical-align: top;\n",
              "    }\n",
              "\n",
              "    .dataframe thead th {\n",
              "        text-align: right;\n",
              "    }\n",
              "</style>\n",
              "<table border=\"1\" class=\"dataframe\">\n",
              "  <thead>\n",
              "    <tr style=\"text-align: right;\">\n",
              "      <th></th>\n",
              "      <th>overall</th>\n",
              "      <th>verified</th>\n",
              "      <th>reviewTime</th>\n",
              "      <th>reviewerID</th>\n",
              "      <th>asin</th>\n",
              "      <th>reviewerName</th>\n",
              "      <th>reviewText</th>\n",
              "      <th>summary</th>\n",
              "      <th>unixReviewTime</th>\n",
              "      <th>vote</th>\n",
              "      <th>style</th>\n",
              "      <th>image</th>\n",
              "    </tr>\n",
              "  </thead>\n",
              "  <tbody>\n",
              "    <tr>\n",
              "      <th>0</th>\n",
              "      <td>5.0</td>\n",
              "      <td>True</td>\n",
              "      <td>10 17, 2015</td>\n",
              "      <td>A1HP7NVNPFMA4N</td>\n",
              "      <td>0700026657</td>\n",
              "      <td>Ambrosia075</td>\n",
              "      <td>This game is a bit hard to get the hang of, bu...</td>\n",
              "      <td>but when you do it's great.</td>\n",
              "      <td>1445040000</td>\n",
              "      <td>NaN</td>\n",
              "      <td>NaN</td>\n",
              "      <td>NaN</td>\n",
              "    </tr>\n",
              "    <tr>\n",
              "      <th>1</th>\n",
              "      <td>4.0</td>\n",
              "      <td>False</td>\n",
              "      <td>07 27, 2015</td>\n",
              "      <td>A1JGAP0185YJI6</td>\n",
              "      <td>0700026657</td>\n",
              "      <td>travis</td>\n",
              "      <td>I played it a while but it was alright. The st...</td>\n",
              "      <td>But in spite of that it was fun, I liked it</td>\n",
              "      <td>1437955200</td>\n",
              "      <td>NaN</td>\n",
              "      <td>NaN</td>\n",
              "      <td>NaN</td>\n",
              "    </tr>\n",
              "    <tr>\n",
              "      <th>2</th>\n",
              "      <td>3.0</td>\n",
              "      <td>True</td>\n",
              "      <td>02 23, 2015</td>\n",
              "      <td>A1YJWEXHQBWK2B</td>\n",
              "      <td>0700026657</td>\n",
              "      <td>Vincent G. Mezera</td>\n",
              "      <td>ok game.</td>\n",
              "      <td>Three Stars</td>\n",
              "      <td>1424649600</td>\n",
              "      <td>NaN</td>\n",
              "      <td>NaN</td>\n",
              "      <td>NaN</td>\n",
              "    </tr>\n",
              "    <tr>\n",
              "      <th>3</th>\n",
              "      <td>2.0</td>\n",
              "      <td>True</td>\n",
              "      <td>02 20, 2015</td>\n",
              "      <td>A2204E1TH211HT</td>\n",
              "      <td>0700026657</td>\n",
              "      <td>Grandma KR</td>\n",
              "      <td>found the game a bit too complicated, not what...</td>\n",
              "      <td>Two Stars</td>\n",
              "      <td>1424390400</td>\n",
              "      <td>NaN</td>\n",
              "      <td>NaN</td>\n",
              "      <td>NaN</td>\n",
              "    </tr>\n",
              "    <tr>\n",
              "      <th>4</th>\n",
              "      <td>5.0</td>\n",
              "      <td>True</td>\n",
              "      <td>12 25, 2014</td>\n",
              "      <td>A2RF5B5H74JLPE</td>\n",
              "      <td>0700026657</td>\n",
              "      <td>jon</td>\n",
              "      <td>great game, I love it and have played it since...</td>\n",
              "      <td>love this game</td>\n",
              "      <td>1419465600</td>\n",
              "      <td>NaN</td>\n",
              "      <td>NaN</td>\n",
              "      <td>NaN</td>\n",
              "    </tr>\n",
              "  </tbody>\n",
              "</table>\n",
              "</div>\n",
              "      <button class=\"colab-df-convert\" onclick=\"convertToInteractive('df-ba4d5bbe-95f4-4950-98a8-91b15f97cab7')\"\n",
              "              title=\"Convert this dataframe to an interactive table.\"\n",
              "              style=\"display:none;\">\n",
              "        \n",
              "  <svg xmlns=\"http://www.w3.org/2000/svg\" height=\"24px\"viewBox=\"0 0 24 24\"\n",
              "       width=\"24px\">\n",
              "    <path d=\"M0 0h24v24H0V0z\" fill=\"none\"/>\n",
              "    <path d=\"M18.56 5.44l.94 2.06.94-2.06 2.06-.94-2.06-.94-.94-2.06-.94 2.06-2.06.94zm-11 1L8.5 8.5l.94-2.06 2.06-.94-2.06-.94L8.5 2.5l-.94 2.06-2.06.94zm10 10l.94 2.06.94-2.06 2.06-.94-2.06-.94-.94-2.06-.94 2.06-2.06.94z\"/><path d=\"M17.41 7.96l-1.37-1.37c-.4-.4-.92-.59-1.43-.59-.52 0-1.04.2-1.43.59L10.3 9.45l-7.72 7.72c-.78.78-.78 2.05 0 2.83L4 21.41c.39.39.9.59 1.41.59.51 0 1.02-.2 1.41-.59l7.78-7.78 2.81-2.81c.8-.78.8-2.07 0-2.86zM5.41 20L4 18.59l7.72-7.72 1.47 1.35L5.41 20z\"/>\n",
              "  </svg>\n",
              "      </button>\n",
              "      \n",
              "  <style>\n",
              "    .colab-df-container {\n",
              "      display:flex;\n",
              "      flex-wrap:wrap;\n",
              "      gap: 12px;\n",
              "    }\n",
              "\n",
              "    .colab-df-convert {\n",
              "      background-color: #E8F0FE;\n",
              "      border: none;\n",
              "      border-radius: 50%;\n",
              "      cursor: pointer;\n",
              "      display: none;\n",
              "      fill: #1967D2;\n",
              "      height: 32px;\n",
              "      padding: 0 0 0 0;\n",
              "      width: 32px;\n",
              "    }\n",
              "\n",
              "    .colab-df-convert:hover {\n",
              "      background-color: #E2EBFA;\n",
              "      box-shadow: 0px 1px 2px rgba(60, 64, 67, 0.3), 0px 1px 3px 1px rgba(60, 64, 67, 0.15);\n",
              "      fill: #174EA6;\n",
              "    }\n",
              "\n",
              "    [theme=dark] .colab-df-convert {\n",
              "      background-color: #3B4455;\n",
              "      fill: #D2E3FC;\n",
              "    }\n",
              "\n",
              "    [theme=dark] .colab-df-convert:hover {\n",
              "      background-color: #434B5C;\n",
              "      box-shadow: 0px 1px 3px 1px rgba(0, 0, 0, 0.15);\n",
              "      filter: drop-shadow(0px 1px 2px rgba(0, 0, 0, 0.3));\n",
              "      fill: #FFFFFF;\n",
              "    }\n",
              "  </style>\n",
              "\n",
              "      <script>\n",
              "        const buttonEl =\n",
              "          document.querySelector('#df-ba4d5bbe-95f4-4950-98a8-91b15f97cab7 button.colab-df-convert');\n",
              "        buttonEl.style.display =\n",
              "          google.colab.kernel.accessAllowed ? 'block' : 'none';\n",
              "\n",
              "        async function convertToInteractive(key) {\n",
              "          const element = document.querySelector('#df-ba4d5bbe-95f4-4950-98a8-91b15f97cab7');\n",
              "          const dataTable =\n",
              "            await google.colab.kernel.invokeFunction('convertToInteractive',\n",
              "                                                     [key], {});\n",
              "          if (!dataTable) return;\n",
              "\n",
              "          const docLinkHtml = 'Like what you see? Visit the ' +\n",
              "            '<a target=\"_blank\" href=https://colab.research.google.com/notebooks/data_table.ipynb>data table notebook</a>'\n",
              "            + ' to learn more about interactive tables.';\n",
              "          element.innerHTML = '';\n",
              "          dataTable['output_type'] = 'display_data';\n",
              "          await google.colab.output.renderOutput(dataTable, element);\n",
              "          const docLink = document.createElement('div');\n",
              "          docLink.innerHTML = docLinkHtml;\n",
              "          element.appendChild(docLink);\n",
              "        }\n",
              "      </script>\n",
              "    </div>\n",
              "  </div>\n",
              "  "
            ],
            "text/plain": [
              "   overall  verified   reviewTime      reviewerID        asin  \\\n",
              "0      5.0      True  10 17, 2015  A1HP7NVNPFMA4N  0700026657   \n",
              "1      4.0     False  07 27, 2015  A1JGAP0185YJI6  0700026657   \n",
              "2      3.0      True  02 23, 2015  A1YJWEXHQBWK2B  0700026657   \n",
              "3      2.0      True  02 20, 2015  A2204E1TH211HT  0700026657   \n",
              "4      5.0      True  12 25, 2014  A2RF5B5H74JLPE  0700026657   \n",
              "\n",
              "        reviewerName                                         reviewText  \\\n",
              "0        Ambrosia075  This game is a bit hard to get the hang of, bu...   \n",
              "1             travis  I played it a while but it was alright. The st...   \n",
              "2  Vincent G. Mezera                                           ok game.   \n",
              "3         Grandma KR  found the game a bit too complicated, not what...   \n",
              "4                jon  great game, I love it and have played it since...   \n",
              "\n",
              "                                       summary  unixReviewTime  vote style  \\\n",
              "0                  but when you do it's great.      1445040000   NaN   NaN   \n",
              "1  But in spite of that it was fun, I liked it      1437955200   NaN   NaN   \n",
              "2                                  Three Stars      1424649600   NaN   NaN   \n",
              "3                                    Two Stars      1424390400   NaN   NaN   \n",
              "4                               love this game      1419465600   NaN   NaN   \n",
              "\n",
              "  image  \n",
              "0   NaN  \n",
              "1   NaN  \n",
              "2   NaN  \n",
              "3   NaN  \n",
              "4   NaN  "
            ]
          },
          "execution_count": 5,
          "metadata": {},
          "output_type": "execute_result"
        }
      ],
      "source": [
        "# create dataframe \n",
        "df = pd.read_csv(path_shortend_dataset)\n",
        "df.drop(columns=['Unnamed: 0'], inplace=True)\n",
        "print(df.shape)\n",
        "df.head()"
      ]
    },
    {
      "cell_type": "code",
      "execution_count": null,
      "metadata": {
        "colab": {
          "base_uri": "https://localhost:8080/",
          "height": 1000
        },
        "id": "G_CWaKAg6ceh",
        "outputId": "04d5fd87-9f02-4057-8c65-819bdef77bf4"
      },
      "outputs": [
        {
          "name": "stdout",
          "output_type": "stream",
          "text": [
            "overall           False\n",
            "verified          False\n",
            "reviewTime        False\n",
            "reviewerID        False\n",
            "asin              False\n",
            "reviewerName      False\n",
            "reviewText        False\n",
            "summary            True\n",
            "unixReviewTime    False\n",
            "vote               True\n",
            "style              True\n",
            "image              True\n",
            "dtype: bool\n",
            "\n",
            "<class 'pandas.core.frame.DataFrame'>\n",
            "RangeIndex: 10000 entries, 0 to 9999\n",
            "Data columns (total 12 columns):\n",
            " #   Column          Non-Null Count  Dtype  \n",
            "---  ------          --------------  -----  \n",
            " 0   overall         10000 non-null  float64\n",
            " 1   verified        10000 non-null  bool   \n",
            " 2   reviewTime      10000 non-null  object \n",
            " 3   reviewerID      10000 non-null  object \n",
            " 4   asin            10000 non-null  object \n",
            " 5   reviewerName    10000 non-null  object \n",
            " 6   reviewText      10000 non-null  object \n",
            " 7   summary         9999 non-null   object \n",
            " 8   unixReviewTime  10000 non-null  int64  \n",
            " 9   vote            2716 non-null   float64\n",
            " 10  style           3784 non-null   object \n",
            " 11  image           50 non-null     object \n",
            "dtypes: bool(1), float64(2), int64(1), object(8)\n",
            "memory usage: 869.3+ KB\n",
            "\n",
            "overall           float64\n",
            "verified             bool\n",
            "reviewTime         object\n",
            "reviewerID         object\n",
            "asin               object\n",
            "reviewerName       object\n",
            "reviewText         object\n",
            "summary            object\n",
            "unixReviewTime      int64\n",
            "vote              float64\n",
            "style              object\n",
            "image              object\n",
            "dtype: object\n",
            "\n",
            "count    10000.000000\n",
            "mean         4.391900\n",
            "std          1.042316\n",
            "min          1.000000\n",
            "25%          4.000000\n",
            "50%          5.000000\n",
            "75%          5.000000\n",
            "max          5.000000\n",
            "Name: overall, dtype: float64\n",
            "\n"
          ]
        },
        {
          "name": "stderr",
          "output_type": "stream",
          "text": [
            "/usr/local/lib/python3.7/dist-packages/seaborn/_decorators.py:43: FutureWarning: Pass the following variable as a keyword arg: x. From version 0.12, the only valid positional argument will be `data`, and passing other arguments without an explicit keyword will result in an error or misinterpretation.\n",
            "  FutureWarning\n"
          ]
        },
        {
          "data": {
            "image/png": "[encoded data removed]",
            "text/plain": [
              "<Figure size 432x288 with 1 Axes>"
            ]
          },
          "metadata": {},
          "output_type": "display_data"
        },
        {
          "name": "stdout",
          "output_type": "stream",
          "text": [
            "\n"
          ]
        }
      ],
      "source": [
        "# General Information and Null values\n",
        "print(df.isnull().any())\n",
        "print()\n",
        "df.info()\n",
        "print()\n",
        "print(df.dtypes)\n",
        "print()\n",
        "print(df.overall.describe())\n",
        "print()\n",
        "# plot the score & check for the distribution of the star ratings \n",
        "sns.countplot(df.overall)\n",
        "plt.show()\n",
        "print()"
      ]
    },
    {
      "cell_type": "code",
      "execution_count": null,
      "metadata": {
        "id": "HQ8tW3OB4qPR"
      },
      "outputs": [],
      "source": [
        ""
      ]
    },
    {
      "cell_type": "markdown",
      "metadata": {
        "id": "Ub4lefsY5XwW"
      },
      "source": [
        "# Data Preprocessing and further Exploration"
      ]
    },
    {
      "cell_type": "markdown",
      "metadata": {
        "id": "T6qhdNDLviKC"
      },
      "source": [
        "## Label creation"
      ]
    },
    {
      "cell_type": "code",
      "execution_count": null,
      "metadata": {
        "colab": {
          "base_uri": "https://localhost:8080/",
          "height": 335
        },
        "id": "oC2lhUbiv6fy",
        "outputId": "7bbb2445-5fd4-4d93-b391-0dc142988781"
      },
      "outputs": [
        {
          "name": "stderr",
          "output_type": "stream",
          "text": [
            "/usr/local/lib/python3.7/dist-packages/seaborn/_decorators.py:43: FutureWarning: Pass the following variable as a keyword arg: x. From version 0.12, the only valid positional argument will be `data`, and passing other arguments without an explicit keyword will result in an error or misinterpretation.\n",
            "  FutureWarning\n"
          ]
        },
        {
          "data": {
            "image/png": "[encoded data removed]",
            "text/plain": [
              "<Figure size 432x288 with 1 Axes>"
            ]
          },
          "metadata": {},
          "output_type": "display_data"
        }
      ],
      "source": [
        "df['label'] = df['overall'].apply(create_labels_from_rating)\n",
        "# plot the score & check for the distribution of the star ratings \n",
        "sns.countplot(df.label)\n",
        "plt.show()"
      ]
    },
    {
      "cell_type": "markdown",
      "metadata": {
        "id": "PyHX54AVnI4U"
      },
      "source": [
        "## Feature Generation and Selection"
      ]
    },
    {
      "cell_type": "code",
      "execution_count": null,
      "metadata": {
        "colab": {
          "base_uri": "https://localhost:8080/"
        },
        "id": "9HzH9Q_NnNbs",
        "outputId": "ae8266c3-d513-4731-c0c3-d899a51f3e3e"
      },
      "outputs": [
        {
          "name": "stdout",
          "output_type": "stream",
          "text": [
            "(10000, 10)\n"
          ]
        }
      ],
      "source": [
        "# Frequency encoding using value_counts function\n",
        "reviewerID_freq = df['reviewerID'].value_counts()\n",
        "# Mapping the encoded values with original data\n",
        "df['reviewer_amount_of_reviews'] = df['reviewerID'].apply(lambda x : reviewerID_freq[x])\n",
        "# detecting mean of ratings score per user\n",
        "df['reviewer_mean_score'] = df.groupby(['reviewerID'])['overall'].transform(lambda x: x.mean())\n",
        "df.drop(columns=['reviewTime', 'reviewerName', 'vote', 'style', 'image'], inplace=True)\n",
        "print(df.shape)"
      ]
    },
    {
      "cell_type": "code",
      "execution_count": null,
      "metadata": {
        "colab": {
          "base_uri": "https://localhost:8080/"
        },
        "id": "sH2tmY5m4fIZ",
        "outputId": "3021d144-5844-4b45-be6e-76562a739ce9"
      },
      "outputs": [
        {
          "name": "stdout",
          "output_type": "stream",
          "text": [
            "(9999, 10)\n",
            "   overall  verified      reviewerID        asin  \\\n",
            "0      5.0      True  A1HP7NVNPFMA4N  0700026657   \n",
            "1      4.0     False  A1JGAP0185YJI6  0700026657   \n",
            "2      3.0      True  A1YJWEXHQBWK2B  0700026657   \n",
            "3      2.0      True  A2204E1TH211HT  0700026657   \n",
            "4      5.0      True  A2RF5B5H74JLPE  0700026657   \n",
            "\n",
            "                                          reviewText  \\\n",
            "0  This game is a bit hard to get the hang of, bu...   \n",
            "1  I played it a while but it was alright. The st...   \n",
            "2                                           ok game.   \n",
            "3  found the game a bit too complicated, not what...   \n",
            "4  great game, I love it and have played it since...   \n",
            "\n",
            "                                       summary  unixReviewTime  label  \\\n",
            "0                  but when you do it's great.      1445040000      2   \n",
            "1  But in spite of that it was fun, I liked it      1437955200      2   \n",
            "2                                  Three Stars      1424649600      1   \n",
            "3                                    Two Stars      1424390400      0   \n",
            "4                               love this game      1419465600      2   \n",
            "\n",
            "   reviewer_amount_of_reviews  reviewer_mean_score  \n",
            "0                           1                  5.0  \n",
            "1                           1                  4.0  \n",
            "2                           1                  3.0  \n",
            "3                           1                  2.0  \n",
            "4                           2                  5.0  \n"
          ]
        }
      ],
      "source": [
        "df = df[df['reviewText'].apply(lambda x: isinstance(x, str))] \n",
        "df = df[df['summary'].apply(lambda x: isinstance(x, str))]\n",
        "df.dropna(inplace=True)\n",
        "print(df.shape)\n",
        "print(df.head())"
      ]
    },
    {
      "cell_type": "markdown",
      "metadata": {
        "id": "V5PDua9Y6-KF"
      },
      "source": [
        "## Emoji Detection and Replacement"
      ]
    },
    {
      "cell_type": "code",
      "execution_count": null,
      "metadata": {
        "colab": {
          "base_uri": "https://localhost:8080/"
        },
        "id": "v2Itjg7W7Xpl",
        "outputId": "2de0302f-d05e-4f96-ca0b-bb5070e82453"
      },
      "outputs": [
        {
          "name": "stdout",
          "output_type": "stream",
          "text": [
            "[\"This game is a bit hard to get the hang of, but when you do it's great.\", 'I played it a while but it was alright. The steam was a bit of trouble. The more they move these game to steam the more of a hard time I have activating and playing a game. But in spite of that it was fun, I liked it. Now I am looking forward to anno 2205 I really want to play my way to the moon.', 'ok game.', 'found the game a bit too complicated, not what I expected after having played 1602, 1503, and 1701', 'great game, I love it and have played it since its arrived']\n",
            "[\"but when you do it's great.\", 'But in spite of that it was fun, I liked it', 'Three Stars', 'Two Stars', 'love this game']\n"
          ]
        }
      ],
      "source": [
        "text = df['reviewText']\n",
        "label = df['label']\n",
        "summaries = df['summary']\n",
        "\n",
        "list_texts = list(text)\n",
        "list_summaries = list(summaries)\n",
        "\n",
        "pure_texts = []\n",
        "for text in list_texts:\n",
        "  pure_text = emoji.demojize(text, language='en')\n",
        "  pure_texts.append(pure_text)\n",
        "\n",
        "pure_summaries = []\n",
        "for summary in list_summaries:\n",
        "  pure_summary = emoji.demojize(summary, language='en')\n",
        "  pure_summaries.append(pure_summary) \n",
        "\n",
        "print(pure_texts[:5])\n",
        "print(pure_summaries[:5])"
      ]
    },
    {
      "cell_type": "markdown",
      "metadata": {
        "id": "XAvccEqX8n4R"
      },
      "source": [
        "## Data Transformation"
      ]
    },
    {
      "cell_type": "code",
      "execution_count": null,
      "metadata": {
        "colab": {
          "base_uri": "https://localhost:8080/"
        },
        "id": "-Fr79gog8nVJ",
        "outputId": "8e68eb7a-08dc-418e-b6f6-a68f9a0f7b56"
      },
      "outputs": [
        {
          "name": "stdout",
          "output_type": "stream",
          "text": [
            "['this game is a bit hard to get the hang of but when you do it s great ']\n",
            "['but when you do it s great ']\n",
            "(9999, 2)\n",
            "(9999, 10)\n",
            "<bound method NDFrame.head of       overall  verified      reviewerID        asin  unixReviewTime  label  \\\n",
            "0         5.0      True  A1HP7NVNPFMA4N  0700026657      1445040000      2   \n",
            "1         4.0     False  A1JGAP0185YJI6  0700026657      1437955200      2   \n",
            "2         3.0      True  A1YJWEXHQBWK2B  0700026657      1424649600      1   \n",
            "3         2.0      True  A2204E1TH211HT  0700026657      1424390400      0   \n",
            "4         5.0      True  A2RF5B5H74JLPE  0700026657      1419465600      2   \n",
            "...       ...       ...             ...         ...             ...    ...   \n",
            "9995      5.0     False  A3NY3HRSDU16NC  B00002SVFM      1389657600      2   \n",
            "9996      5.0      True  A34210QTNJZBJX  B00002SVFM      1388707200      2   \n",
            "9997      5.0     False  A3J8ABVGK7ZL6H  B00002SVFM      1379376000      2   \n",
            "9998      5.0      True  A1P9TAGWA2VAE4  B00002SVFM      1375660800      2   \n",
            "9999      3.0     False   ANAYSRE3LX8GZ  B00002SU0O      1111190400      1   \n",
            "\n",
            "      reviewer_amount_of_reviews  reviewer_mean_score  \\\n",
            "0                              1             5.000000   \n",
            "1                              1             4.000000   \n",
            "2                              1             3.000000   \n",
            "3                              1             2.000000   \n",
            "4                              2             5.000000   \n",
            "...                          ...                  ...   \n",
            "9995                           1             5.000000   \n",
            "9996                           3             4.333333   \n",
            "9997                          19             3.157895   \n",
            "9998                           2             5.000000   \n",
            "9999                          24             3.500000   \n",
            "\n",
            "                                             reviewText  \\\n",
            "0     this game is a bit hard to get the hang of but...   \n",
            "1     i played it a while but it was alright the ste...   \n",
            "2                                              ok game    \n",
            "3     found the game a bit too complicated not what ...   \n",
            "4     great game i love it and have played it since ...   \n",
            "...                                                 ...   \n",
            "9995  there are only playable characters but it is s...   \n",
            "9996  ki has always been one of my person favorite f...   \n",
            "9997  had this when i was young me and my brother wo...   \n",
            "9998  this game was always pretty cool to me when it...   \n",
            "9999                                                NaN   \n",
            "\n",
            "                                         summary  \n",
            "0                    but when you do it s great   \n",
            "1     but in spite of that it was fun i liked it  \n",
            "2                                    three stars  \n",
            "3                                      two stars  \n",
            "4                                 love this game  \n",
            "...                                          ...  \n",
            "9995                           great player game  \n",
            "9996   one of the best fighting games ever made   \n",
            "9997                                     love it  \n",
            "9998           it was the wwf game of it s time   \n",
            "9999                                         NaN  \n",
            "\n",
            "[9999 rows x 10 columns]>\n"
          ]
        }
      ],
      "source": [
        "def transform_text(text):\n",
        "\n",
        "    # lowercasing\n",
        "    text = text.lower()\n",
        "    \n",
        "    # remove everything that is not a word \n",
        "    text =  re.sub(\"[^a-z]+\", \" \",text)\n",
        "\n",
        "    # remove Links \n",
        "    url_pattern = re.compile(r'https?://\\S+|www\\.\\S+')\n",
        "    text = url_pattern.sub(r'', text)\n",
        "    \n",
        "    return text\n",
        "\n",
        "finished_text = []\n",
        "for i in range(len(pure_texts)):\n",
        "    finished_text.append(transform_text(pure_texts[i]))\n",
        "\n",
        "\n",
        "finished_summaries = []\n",
        "for i in range(len(pure_summaries)):\n",
        "    finished_summaries.append(transform_text(pure_summaries[i]))\n",
        "\n",
        "print(finished_text[:1])\n",
        "print(finished_summaries[:1])\n",
        "\n",
        "text_without_sw = pd.DataFrame(finished_text,columns=['reviewText'])\n",
        "summaries_without_sw = pd.DataFrame(finished_summaries, columns=['summary'])\n",
        "text_and_summary = pd.concat([summaries_without_sw, text_without_sw], axis=1)\n",
        "print(text_and_summary.shape)\n",
        "print(df.shape)\n",
        "df.reset_index(drop=True)\n",
        "df.drop(columns =['reviewText', 'summary'], inplace = True)\n",
        "df['reviewText'] = text_and_summary['reviewText']\n",
        "df['summary'] = text_and_summary['summary']\n",
        "print(df.head)"
      ]
    },
    {
      "cell_type": "markdown",
      "metadata": {
        "id": "pocsiti49v2l"
      },
      "source": [
        "## Tokenization "
      ]
    },
    {
      "cell_type": "code",
      "execution_count": null,
      "metadata": {
        "colab": {
          "base_uri": "https://localhost:8080/"
        },
        "id": "Bs6W6wRsA1hz",
        "outputId": "7dab4d6b-3c7d-4586-9783-63044eaed604"
      },
      "outputs": [
        {
          "name": "stdout",
          "output_type": "stream",
          "text": [
            "   overall  verified      reviewerID        asin  unixReviewTime  label  \\\n",
            "0      5.0      True  A1HP7NVNPFMA4N  0700026657      1445040000      2   \n",
            "1      4.0     False  A1JGAP0185YJI6  0700026657      1437955200      2   \n",
            "2      3.0      True  A1YJWEXHQBWK2B  0700026657      1424649600      1   \n",
            "3      2.0      True  A2204E1TH211HT  0700026657      1424390400      0   \n",
            "4      5.0      True  A2RF5B5H74JLPE  0700026657      1419465600      2   \n",
            "\n",
            "   reviewer_amount_of_reviews  reviewer_mean_score  \\\n",
            "0                           1                  5.0   \n",
            "1                           1                  4.0   \n",
            "2                           1                  3.0   \n",
            "3                           1                  2.0   \n",
            "4                           2                  5.0   \n",
            "\n",
            "                                          reviewText          summary  \n",
            "0                       game bit hard get hang great            great  \n",
            "1  played alright steam bit trouble move game ste...  spite fun liked  \n",
            "2                                            ok game      three stars  \n",
            "3         found game bit complicated expected played        two stars  \n",
            "4               great game love played since arrived        love game  \n",
            "(9998, 10)\n"
          ]
        }
      ],
      "source": [
        "df = df[df['reviewText'].apply(lambda x: isinstance(x, str))] \n",
        "df = df[df['summary'].apply(lambda x: isinstance(x, str))]\n",
        "# tokenize and remove stopwords \n",
        "stop = stopwords.words('english')\n",
        "df['reviewText'] = df['reviewText'].apply(lambda x: ' '.join([word for word in x.split() if word not in (stop)]))\n",
        "df['summary'] = df['summary'].apply(lambda x: ' '.join([word for word in x.split() if word not in (stop)]))\n",
        "\n",
        "# stemming\n",
        "from nltk.stem import PorterStemmer\n",
        "stemmer = PorterStemmer()\n",
        "\n",
        "df.dropna(inplace=True)\n",
        "print(df.head())\n",
        "print(df.shape)"
      ]
    },
    {
      "cell_type": "markdown",
      "metadata": {
        "id": "h0Huq-553D0p"
      },
      "source": [
        "# Train Test Split and shortening "
      ]
    },
    {
      "cell_type": "code",
      "execution_count": null,
      "metadata": {
        "id": "V304yhm93NOu"
      },
      "outputs": [],
      "source": [
        "df = df[df['reviewText'].apply(lambda x: isinstance(x, str))] \n",
        "df = df[df['summary'].apply(lambda x: isinstance(x, str))]"
      ]
    },
    {
      "cell_type": "markdown",
      "metadata": {
        "id": "AKAcrtxertPI"
      },
      "source": [
        ""
      ]
    },
    {
      "cell_type": "code",
      "execution_count": null,
      "metadata": {
        "colab": {
          "base_uri": "https://localhost:8080/"
        },
        "id": "W4AtH8CR3SKs",
        "outputId": "f9e99ea9-26d6-4991-df44-e9a6c5ae81da"
      },
      "outputs": [
        {
          "name": "stdout",
          "output_type": "stream",
          "text": [
            "y_train: (7998,)/ x_train: (7998, 10)\n",
            "y_test: (1000,)/ x_test: (1000, 10)\n",
            "y_valid: (1000,)/ x_valid: (1000, 10)\n",
            "      overall  verified      reviewerID        asin  unixReviewTime  label  \\\n",
            "2285      2.0     False   ACGBAI00YLEBW  B00000IODY      1346889600      0   \n",
            "7395      5.0      True  A25CSU2SI8YT2Z  B00002ST7F      1487203200      2   \n",
            "1014      5.0      True  A2FCAVRCM0JWQ2  B00000DMAX      1423699200      2   \n",
            "5849      5.0      True  A1R36B8EO01ITE  B000021Y4W      1363219200      2   \n",
            "6502      5.0     False   AL8QVSCIGU174  B00002CF9M      1002240000      2   \n",
            "\n",
            "      reviewer_amount_of_reviews  reviewer_mean_score  \\\n",
            "2285                           3             3.000000   \n",
            "7395                           1             5.000000   \n",
            "1014                           4             4.500000   \n",
            "5849                           2             5.000000   \n",
            "6502                           3             3.666667   \n",
            "\n",
            "                                             reviewText  \\\n",
            "2285  early military simulation type game pretty muc...   \n",
            "7395    classic arguably best genesis fun players couch   \n",
            "1014                          game remember works great   \n",
            "5849  played game alote child bought shipping came f...   \n",
            "6502  simply superb game stable listen said run mach...   \n",
            "\n",
            "                             summary  \n",
            "2285  sort fun unintentionally funny  \n",
            "7395                        one best  \n",
            "1014                      five stars  \n",
            "5849                           great  \n",
            "6502             one best games time  \n"
          ]
        }
      ],
      "source": [
        "# split\n",
        "x_train, x_test = train_test_split(df, test_size=0.2, random_state = 453, stratify=df['label'])\n",
        "x_test, x_valid = train_test_split(x_test, test_size=0.5 , random_state = 453, stratify= x_test['label'])\n",
        "\n",
        "y_train = x_train['label']\n",
        "y_test = x_test['label']\n",
        "y_valid = x_valid['label']\n",
        "\n",
        "\n",
        "print (f\"y_train: {y_train.shape}/ x_train: {x_train.shape}\")\n",
        "print (f\"y_test: {y_test.shape}/ x_test: {x_test.shape}\")\n",
        "print (f\"y_valid: {y_valid.shape}/ x_valid: {x_valid.shape}\")\n",
        "print(x_train.head())"
      ]
    },
    {
      "cell_type": "markdown",
      "metadata": {
        "id": "-c_g4TzPQt8_"
      },
      "source": [
        "# Model Training"
      ]
    },
    {
      "cell_type": "markdown",
      "metadata": {
        "id": "hTCfxyjHohj8"
      },
      "source": [
        "## Set Up Pipeline"
      ]
    },
    {
      "cell_type": "code",
      "execution_count": null,
      "metadata": {
        "colab": {
          "base_uri": "https://localhost:8080/"
        },
        "id": "da4hsNzPog0r",
        "outputId": "c9f41104-8f6e-4694-db0d-e421f418aa39"
      },
      "outputs": [
        {
          "name": "stdout",
          "output_type": "stream",
          "text": [
            "(7998,)\n",
            "(7998,)\n"
          ]
        },
        {
          "data": {
            "text/plain": [
              "2285    early military simulation type game pretty muc...\n",
              "7395      classic arguably best genesis fun players couch\n",
              "1014                            game remember works great\n",
              "5849    played game alote child bought shipping came f...\n",
              "6502    simply superb game stable listen said run mach...\n",
              "Name: reviewText, dtype: object"
            ]
          },
          "execution_count": 15,
          "metadata": {},
          "output_type": "execute_result"
        }
      ],
      "source": [
        "from sklearn.metrics import roc_auc_score\n",
        "\n",
        "# define transforms\n",
        "vectorizer = TfidfVectorizer()\n",
        "sampling = RandomOverSampler(random_state=453)\n",
        "\n",
        "# define the scoring function\n",
        "roc_auc = make_scorer(roc_auc_score, needs_proba=True, multi_class=\"ovr\")\n",
        "\n",
        "# set up cross validation configuration\n",
        "cv = StratifiedKFold(n_splits=8, shuffle=True, random_state=42)\n",
        "\n",
        "# dataset preparation\n",
        "x_train.drop(columns = ['label'], inplace= True)\n",
        "x_train = x_train['reviewText']\n",
        "x_valid = x_valid['reviewText']\n",
        "print(x_train.shape)\n",
        "print(y_train.shape)\n",
        "x_train.head(5)\n",
        "\n",
        "\n"
      ]
    },
    {
      "cell_type": "markdown",
      "metadata": {
        "id": "GjcsWovnRMvl"
      },
      "source": [
        "## Naïve Bayes"
      ]
    },
    {
      "cell_type": "code",
      "execution_count": 36,
      "metadata": {
        "colab": {
          "base_uri": "https://localhost:8080/"
        },
        "id": "kJvXgDr9qutk",
        "outputId": "cf4726dd-788f-48fe-f005-a167899ecccc"
      },
      "outputs": [
        {
          "output_type": "stream",
          "name": "stdout",
          "text": [
            "Pipeline(steps=[('vectorizer', TfidfVectorizer()),\n",
            "                ('balancing', RandomOverSampler(random_state=453)),\n",
            "                ('estimator', MultinomialNB())])\n",
            "Fitting 8 folds for each of 144 candidates, totalling 1152 fits\n",
            "--- 613.5377626419067 seconds ---\n",
            "Multinomial NBClassifier: 76.16396177617042% F1-score for class 'label' with parameters {'estimator__alpha': 10, 'vectorizer__max_df': 0.5, 'vectorizer__norm': 'l2', 'vectorizer__smooth_idf': True}\n"
          ]
        },
        {
          "output_type": "execute_result",
          "data": {
            "text/plain": [
              "['/content/drive/My Drive/Web_Mining_Project/classifier_parameters/nb.pkl']"
            ]
          },
          "metadata": {},
          "execution_count": 36
        }
      ],
      "source": [
        "# Optimize parameters for NB Classifier\n",
        "from sklearn.naive_bayes import MultinomialNB\n",
        "estimator = MultinomialNB()\n",
        "\n",
        "# Define grid of possible hyperparamters values \n",
        "parameters = {\n",
        "    'vectorizer__max_df': [0.25, 0.5, 0.75, 1.0],\n",
        "    'vectorizer__smooth_idf': (True, False),\n",
        "    'vectorizer__norm': ('l1', 'l2', None),\n",
        "    'estimator__alpha': [ 0.0001, 0.001, 0.01, 0.1, 1, 10],\n",
        "}\n",
        "\n",
        "# Create a pipeline\n",
        "pipeline = Pipeline([ ('vectorizer', vectorizer),('balancing', sampling), ('estimator', estimator) ])\n",
        "print(pipeline)\n",
        "\n",
        "# Hyperparameter optimization with Grid Search\n",
        "start_time = time.time()\n",
        "grid_search_estimator = GridSearchCV(pipeline, parameters, scoring=roc_auc, cv=cv, return_train_score=False, n_jobs=-1, verbose=10)\n",
        "grid_search_estimator.fit(x_train, y_train)\n",
        "\n",
        "print(\"--- %s seconds ---\" % (time.time() - start_time))\n",
        "print(\"Multinomial NBClassifier: {}% F1-score for class 'label' with parameters {}\".format(grid_search_estimator.best_score_ * 100, grid_search_estimator.best_params_))\n",
        "\n",
        "# Save hyperparameter optmization results\n",
        "df_hyper = pd.DataFrame(grid_search_estimator.cv_results_)\n",
        "df_hyper.to_csv(path_hyperparameters_nb, index=False)\n",
        "\n",
        "# Save best hyperparameters values\n",
        "joblib.dump(grid_search_estimator.best_params_, path_best_parameters_nb, compress = 1) # Only best parameters\n"
      ]
    },
    {
      "cell_type": "code",
      "execution_count": 37,
      "metadata": {
        "colab": {
          "base_uri": "https://localhost:8080/",
          "height": 476
        },
        "id": "GZuCTfkb-TFF",
        "outputId": "4f7691d6-6d2f-4899-8b69-ffe9b05007cf"
      },
      "outputs": [
        {
          "output_type": "stream",
          "name": "stdout",
          "text": [
            "              precision    recall  f1-score   support\n",
            "\n",
            "           0       0.23      0.55      0.33        75\n",
            "           1       0.13      0.60      0.22        81\n",
            "           2       0.96      0.51      0.67       844\n",
            "\n",
            "    accuracy                           0.52      1000\n",
            "   macro avg       0.44      0.55      0.40      1000\n",
            "weighted avg       0.83      0.52      0.61      1000\n",
            "\n"
          ]
        },
        {
          "output_type": "display_data",
          "data": {
            "text/plain": [
              "<Figure size 432x288 with 2 Axes>"
            ],
            "image/png": "[encoded data removed]"
          },
          "metadata": {
            "needs_background": "light"
          }
        }
      ],
      "source": [
        "x_test = x_test['reviewText']\n",
        "prediction = grid_search_estimator.predict(x_test)\n",
        "cm = confusion_matrix(y_test, prediction)\n",
        "plot_confusion_matrix(cm, classes = unique_labels(y_test), title = \"NB Classifier on Test Set\")\n",
        "print(classification_report(y_test, prediction))"
      ]
    },
    {
      "cell_type": "markdown",
      "metadata": {
        "id": "wthL57DKLmIQ"
      },
      "source": [
        "## SVM"
      ]
    },
    {
      "cell_type": "code",
      "execution_count": 38,
      "metadata": {
        "colab": {
          "base_uri": "https://localhost:8080/"
        },
        "id": "0WVxnlCaLlI0",
        "outputId": "b08a4b84-a21b-4d9c-f09d-24c929fc219a"
      },
      "outputs": [
        {
          "metadata": {
            "tags": null
          },
          "name": "stdout",
          "output_type": "stream",
          "text": [
            "Pipeline(steps=[('vectorizer', TfidfVectorizer()),\n",
            "                ('balancing', RandomOverSampler(random_state=453)),\n",
            "                ('estimator', SVC(kernel='linear'))])\n",
            "Fitting 8 folds for each of 2 candidates, totalling 16 fits\n"
          ]
        },
        {
          "output_type": "stream",
          "name": "stderr",
          "text": [
            "/usr/local/lib/python3.7/dist-packages/joblib/externals/loky/process_executor.py:705: UserWarning: A worker stopped while some jobs were given to the executor. This can be caused by a too short worker timeout or by a memory leak.\n",
            "  \"timeout or by a memory leak.\", UserWarning\n",
            "/usr/local/lib/python3.7/dist-packages/sklearn/model_selection/_search.py:972: UserWarning: One or more of the test scores are non-finite: [nan nan]\n",
            "  category=UserWarning,\n"
          ]
        },
        {
          "output_type": "stream",
          "name": "stdout",
          "text": [
            "--- 1614.4069094657898 seconds ---\n",
            "C-Support Vector Classification.: nan% F1-score for class 'label' with parameters {'estimator__C': 0.1}\n"
          ]
        },
        {
          "output_type": "execute_result",
          "data": {
            "text/plain": [
              "['/content/drive/My Drive/Web_Mining_Project/classifier_parameters/svm.pkl']"
            ]
          },
          "metadata": {},
          "execution_count": 38
        }
      ],
      "source": [
        "from sklearn import svm\n",
        "estimator_svm=svm.SVC(kernel='linear')\n",
        "\n",
        "# Define grid of possible hyperparamters values \n",
        "para_svm = {\n",
        "   # 'estimator__kernel': ('linear', 'poly', 'rbf'),\n",
        "    'estimator__C': [0.1,1]\n",
        "}\n",
        "\n",
        "pipe_svm = Pipeline([ ('vectorizer', vectorizer),('balancing', sampling), ('estimator', estimator_svm) ])\n",
        "print(pipe_svm)\n",
        "\n",
        "# Hyperparameter optimization with Grid Search\n",
        "start_time_svm= time.time()\n",
        "grid_search_estimator_svm = GridSearchCV(pipe_svm, para_svm, scoring=roc_auc, cv=cv, return_train_score=False, n_jobs=-1, verbose=10)\n",
        "grid_search_estimator_svm.fit(x_train, y_train)\n",
        "\n",
        "print(\"--- %s seconds ---\" % (time.time() - start_time_svm))\n",
        "print(\"C-Support Vector Classification.: {}% F1-score for class 'label' with parameters {}\".format(grid_search_estimator_svm.best_score_ * 100, grid_search_estimator_svm.best_params_))\n",
        "\n",
        "# Save hyperparameter optmization results\n",
        "df_hyper_svm = pd.DataFrame(grid_search_estimator_svm.cv_results_)\n",
        "df_hyper_svm.to_csv(path_hyperparameters_svm, index=False)\n",
        "\n",
        "# Save best hyperparameters values\n",
        "joblib.dump(grid_search_estimator_svm.best_params_, path_best_parameters_svm, compress = 1) # Only best parameters"
      ]
    },
    {
      "cell_type": "code",
      "execution_count": 41,
      "metadata": {
        "colab": {
          "base_uri": "https://localhost:8080/",
          "height": 476
        },
        "id": "FSI3AOm8HPlB",
        "outputId": "785175fb-af77-40bf-a9ae-c3c1d45de093"
      },
      "outputs": [
        {
          "output_type": "stream",
          "name": "stdout",
          "text": [
            "              precision    recall  f1-score   support\n",
            "\n",
            "           0       0.27      0.49      0.35        75\n",
            "           1       0.20      0.43      0.27        81\n",
            "           2       0.93      0.76      0.83       844\n",
            "\n",
            "    accuracy                           0.71      1000\n",
            "   macro avg       0.47      0.56      0.49      1000\n",
            "weighted avg       0.82      0.71      0.75      1000\n",
            "\n"
          ]
        },
        {
          "output_type": "display_data",
          "data": {
            "text/plain": [
              "<Figure size 432x288 with 2 Axes>"
            ],
            "image/png": "[encoded data removed]"
          },
          "metadata": {
            "needs_background": "light"
          }
        }
      ],
      "source": [
        "prediction_svm = grid_search_estimator_svm.predict(x_test)\n",
        "cm = confusion_matrix(y_test, prediction_svm)\n",
        "plot_confusion_matrix(cm, classes = unique_labels(y_test), title = \"SVM Classifier on Test Set\")\n",
        "print(classification_report(y_test, prediction_svm))"
      ]
    },
    {
      "cell_type": "markdown",
      "metadata": {
        "id": "FU7S0rDsMAux"
      },
      "source": [
        "## Logistic Regression"
      ]
    },
    {
      "cell_type": "code",
      "execution_count": 44,
      "metadata": {
        "colab": {
          "base_uri": "https://localhost:8080/"
        },
        "id": "X8qXYTndMIgD",
        "outputId": "0ad8170c-dc9e-45ed-a144-e9546531abbb"
      },
      "outputs": [
        {
          "metadata": {
            "tags": null
          },
          "name": "stdout",
          "output_type": "stream",
          "text": [
            "Pipeline(steps=[('vectorizer', TfidfVectorizer()),\n",
            "                ('balancing', RandomOverSampler(random_state=453)),\n",
            "                ('estimator', LogisticRegression(random_state=0))])\n",
            "Fitting 8 folds for each of 144 candidates, totalling 1152 fits\n"
          ]
        },
        {
          "output_type": "stream",
          "name": "stderr",
          "text": [
            "/usr/local/lib/python3.7/dist-packages/sklearn/model_selection/_validation.py:372: FitFailedWarning: \n",
            "576 fits failed out of a total of 1152.\n",
            "The score on these train-test partitions for these parameters will be set to nan.\n",
            "If these failures are not expected, you can try to debug them by setting error_score='raise'.\n",
            "\n",
            "Below are more details about the failures:\n",
            "--------------------------------------------------------------------------------\n",
            "576 fits failed with the following error:\n",
            "Traceback (most recent call last):\n",
            "  File \"/usr/local/lib/python3.7/dist-packages/sklearn/model_selection/_validation.py\", line 680, in _fit_and_score\n",
            "    estimator.fit(X_train, y_train, **fit_params)\n",
            "  File \"/usr/local/lib/python3.7/dist-packages/imblearn/pipeline.py\", line 266, in fit\n",
            "    self._final_estimator.fit(Xt, yt, **fit_params_last_step)\n",
            "  File \"/usr/local/lib/python3.7/dist-packages/sklearn/linear_model/_logistic.py\", line 1461, in fit\n",
            "    solver = _check_solver(self.solver, self.penalty, self.dual)\n",
            "  File \"/usr/local/lib/python3.7/dist-packages/sklearn/linear_model/_logistic.py\", line 449, in _check_solver\n",
            "    % (solver, penalty)\n",
            "ValueError: Solver lbfgs supports only 'l2' or 'none' penalties, got l1 penalty.\n",
            "\n",
            "  warnings.warn(some_fits_failed_message, FitFailedWarning)\n",
            "/usr/local/lib/python3.7/dist-packages/sklearn/model_selection/_search.py:972: UserWarning: One or more of the test scores are non-finite: [       nan        nan        nan        nan        nan        nan\n",
            "        nan        nan        nan        nan        nan        nan\n",
            "        nan        nan        nan        nan        nan        nan\n",
            "        nan        nan        nan        nan        nan        nan\n",
            " 0.74688115 0.74678618 0.75756565 0.75784538 0.64608662 0.6453645\n",
            " 0.74860312 0.74854691 0.76105261 0.76121338 0.64391514 0.6421045\n",
            " 0.74941321 0.74926907 0.76094474 0.76109714 0.64098729 0.64142317\n",
            " 0.74941321 0.74926907 0.76094474 0.76109714 0.64098729 0.64142317\n",
            "        nan        nan        nan        nan        nan        nan\n",
            "        nan        nan        nan        nan        nan        nan\n",
            "        nan        nan        nan        nan        nan        nan\n",
            "        nan        nan        nan        nan        nan        nan\n",
            " 0.74336092 0.74230845 0.73461028 0.73473781 0.63080932 0.62960347\n",
            " 0.74695983 0.74703945 0.73754036 0.73727996 0.62873483 0.6255778\n",
            " 0.74710864 0.74590037 0.73705262 0.73707198 0.62626055 0.62593376\n",
            " 0.74710864 0.74590037 0.73705262 0.73707198 0.62626055 0.62593376\n",
            "        nan        nan        nan        nan        nan        nan\n",
            "        nan        nan        nan        nan        nan        nan\n",
            "        nan        nan        nan        nan        nan        nan\n",
            "        nan        nan        nan        nan        nan        nan\n",
            " 0.7345752  0.7333242  0.71380168 0.71445137 0.62222101 0.62055967\n",
            " 0.74048987 0.74035363 0.71919167 0.71873042 0.6208491  0.61927029\n",
            " 0.73711571 0.73798708 0.71877005 0.7185322  0.61801989 0.62046736\n",
            " 0.73711571 0.73798708 0.71877005 0.7185322  0.61801989 0.62046736]\n",
            "  category=UserWarning,\n"
          ]
        },
        {
          "output_type": "stream",
          "name": "stdout",
          "text": [
            "--- 2167.6770379543304 seconds ---\n",
            "C-Support Vector Classification.: 76.12133847189378% F1-score for class 'label' with parameters {'estimator__C': 1.0, 'estimator__penalty': 'l2', 'vectorizer__max_df': 0.5, 'vectorizer__norm': 'l2', 'vectorizer__smooth_idf': False}\n"
          ]
        },
        {
          "output_type": "stream",
          "name": "stderr",
          "text": [
            "/usr/local/lib/python3.7/dist-packages/sklearn/linear_model/_logistic.py:818: ConvergenceWarning: lbfgs failed to converge (status=1):\n",
            "STOP: TOTAL NO. of ITERATIONS REACHED LIMIT.\n",
            "\n",
            "Increase the number of iterations (max_iter) or scale the data as shown in:\n",
            "    https://scikit-learn.org/stable/modules/preprocessing.html\n",
            "Please also refer to the documentation for alternative solver options:\n",
            "    https://scikit-learn.org/stable/modules/linear_model.html#logistic-regression\n",
            "  extra_warning_msg=_LOGISTIC_SOLVER_CONVERGENCE_MSG,\n"
          ]
        },
        {
          "output_type": "execute_result",
          "data": {
            "text/plain": [
              "['/content/drive/My Drive/Web_Mining_Project/classifier_parameters/lr.pkl']"
            ]
          },
          "metadata": {},
          "execution_count": 44
        }
      ],
      "source": [
        "from sklearn.linear_model import LogisticRegression\n",
        "estimator_lr=LogisticRegression(random_state=0)\n",
        "\n",
        "para_lr = [{'vectorizer__max_df': [0.25, 0.5, 0.75, 1.0],\n",
        "    'vectorizer__smooth_idf': (True, False),\n",
        "    'vectorizer__norm': ('l1', 'l2', None),\n",
        "            'estimator__penalty': ['l1', 'l2'],\n",
        "               'estimator__C': [1.0, 10.0, 100.0]} ]\n",
        "\n",
        "pipe_lr = Pipeline([ ('vectorizer', vectorizer),('balancing', sampling), ('estimator', estimator_lr) ])\n",
        "print(pipe_lr)\n",
        "\n",
        "# Hyperparameter optimization with Grid Search\n",
        "start_time_lr= time.time()\n",
        "grid_search_estimator_lr = GridSearchCV(pipe_lr, para_lr, scoring=roc_auc, cv=cv, return_train_score=False, n_jobs=-1, verbose=10)\n",
        "grid_search_estimator_lr.fit(x_train, y_train)\n",
        "\n",
        "print(\"--- %s seconds ---\" % (time.time() - start_time_lr))\n",
        "print(\"C-Support Vector Classification.: {}% F1-score for class 'label' with parameters {}\".format(grid_search_estimator_lr.best_score_ * 100, grid_search_estimator_lr\n",
        "                                                                                                   .best_params_))\n",
        "\n",
        "# Save hyperparameter optmization results\n",
        "df_hyper_lr = pd.DataFrame(grid_search_estimator_lr.cv_results_)\n",
        "df_hyper_lr.to_csv(path_hyperparameters_lr, index=False)\n",
        "\n",
        "# Save best hyperparameters values\n",
        "joblib.dump(grid_search_estimator_lr.best_params_, path_best_parameters_lr, compress = 1) # Only best parameters               "
      ]
    },
    {
      "cell_type": "code",
      "execution_count": 45,
      "metadata": {
        "colab": {
          "base_uri": "https://localhost:8080/",
          "height": 476
        },
        "id": "AYeg0md1MJnA",
        "outputId": "041f26ea-13a1-4be6-b7b2-07e4da97f160"
      },
      "outputs": [
        {
          "output_type": "stream",
          "name": "stdout",
          "text": [
            "              precision    recall  f1-score   support\n",
            "\n",
            "           0       0.31      0.40      0.35        75\n",
            "           1       0.23      0.28      0.25        81\n",
            "           2       0.90      0.85      0.88       844\n",
            "\n",
            "    accuracy                           0.77      1000\n",
            "   macro avg       0.48      0.51      0.49      1000\n",
            "weighted avg       0.80      0.77      0.79      1000\n",
            "\n"
          ]
        },
        {
          "output_type": "display_data",
          "data": {
            "text/plain": [
              "<Figure size 432x288 with 2 Axes>"
            ],
            "image/png": "[encoded data removed]"
          },
          "metadata": {
            "needs_background": "light"
          }
        }
      ],
      "source": [
        "prediction_lr = grid_search_estimator_lr.predict(x_test)\n",
        "cm = confusion_matrix(y_test, prediction_lr)\n",
        "plot_confusion_matrix(cm, classes = unique_labels(y_test), title = \"Logistic Regression Classifier on Test Set\")\n",
        "print(classification_report(y_test, prediction_lr))"
      ]
    },
    {
      "cell_type": "markdown",
      "metadata": {
        "id": "uZ9hcdoyEWVS"
      },
      "source": [
        ""
      ]
    }
  ],
  "metadata": {
    "colab": {
      "collapsed_sections": [],
      "name": "amazon_reviews_sentiment_nb_initial.ipynb",
      "provenance": [],
      "include_colab_link": true
    },
    "kernelspec": {
      "display_name": "Python 3",
      "language": "python",
      "name": "python3"
    },
    "language_info": {
      "codemirror_mode": {
        "name": "ipython",
        "version": 3
      },
      "file_extension": ".py",
      "mimetype": "text/x-python",
      "name": "python",
      "nbconvert_exporter": "python",
      "pygments_lexer": "ipython3",
      "version": "3.6.9"
    }
  },
  "nbformat": 4,
  "nbformat_minor": 0
}